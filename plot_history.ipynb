{
 "cells": [
  {
   "cell_type": "code",
   "execution_count": null,
   "metadata": {},
   "outputs": [],
   "source": [
    "import numpy as np\n",
    "import matplotlib.pyplot as plt\n",
    "import pandas as pd\n",
    "import os"
   ]
  },
  {
   "cell_type": "code",
   "execution_count": null,
   "metadata": {
    "scrolled": false
   },
   "outputs": [],
   "source": [
    "experiments = !ls -1 ./checkpoints\n",
    "print(*['%3i %s' % (i, v) for i, v in enumerate(experiments.list)], sep='\\n')"
   ]
  },
  {
   "cell_type": "code",
   "execution_count": null,
   "metadata": {},
   "outputs": [],
   "source": [
    "experiments = [\n",
    "    '201809231008_sl512_synthtext', # SegLink\n",
    "    '201806021007_dsodsl512_synthtext', # SegLink with DenseNet and Focal Loss\n",
    "    '201807091503_dsodtbpp512fl_synthtext', # TextBoxes++ with DennseNet and Focal Loss\n",
    "    '202003070004_dstbpp512fl_synthtext', # TextBoxes++ with Dense Blocks, Separable Convolution and Focal Loss\n",
    "]"
   ]
  },
  {
   "cell_type": "markdown",
   "metadata": {},
   "source": [
    "### History"
   ]
  },
  {
   "cell_type": "code",
   "execution_count": null,
   "metadata": {},
   "outputs": [],
   "source": [
    "d = experiments[1]\n",
    "\n",
    "checkpath = os.path.join('.', 'checkpoints', d)\n",
    "df = pd.read_csv(os.path.join(checkpath, 'history.csv'))\n",
    "epochs = np.arange(len(df)) + 1\n",
    "ticks = epochs\n",
    "    \n",
    "#print(list(df.keys()))\n",
    "plt.figure(figsize=(12,6))\n",
    "plt.plot(epochs, df['loss'])\n",
    "plt.plot(epochs, df['val_loss'])\n",
    "plt.title('loss')\n",
    "plt.legend(['training','validation'])\n",
    "ax = plt.gca()\n",
    "ax.set_xticks(ticks)\n",
    "ax.set_xticklabels(ticks)\n",
    "plt.grid()\n",
    "#plt.ylim([0.0, 5.0])\n",
    "#plt.ylim([0.0, 20.0])\n",
    "if False:\n",
    "    plotpath = os.path.join(checkpath, 'plots')\n",
    "    os.makedirs(plotpath, exist_ok=True)\n",
    "    plt.savefig(os.path.join(plotpath, 'history_loss.png'), bbox_inches='tight') # jpg/png/pgf\n",
    "plt.show()"
   ]
  },
  {
   "cell_type": "code",
   "execution_count": null,
   "metadata": {},
   "outputs": [],
   "source": [
    "signals = [\n",
    "    # SSD\n",
    "    #'conf_loss', 'loc_loss',\n",
    "    #'pos_conf_loss', 'neg_conf_loss', 'pos_loc_loss',\n",
    "    #'precision', 'recall', 'fmeasure',\n",
    "    \n",
    "    # SegLink\n",
    "    'seg_precision', 'seg_recall', 'seg_fmeasure',\n",
    "    #'link_precision', 'link_recall', 'link_fmeasure',\n",
    "    #'pos_seg_conf_loss', 'neg_seg_conf_loss', 'seg_loc_loss', 'pos_link_conf_loss', 'neg_link_conf_loss',\n",
    "    #'num_pos_seg', 'num_neg_seg', 'num_pos_link', 'num_neg_link', \n",
    "    #'seg_conf_loss', 'seg_loc_loss', 'link_conf_loss',\n",
    "]\n",
    "\n",
    "fig, axs = plt.subplots(1, len(signals), figsize=(20,4))\n",
    "for i, s in enumerate(signals):\n",
    "    if s not in df.keys():\n",
    "        print('missing %s' %(s))\n",
    "        continue\n",
    "    axs[i].plot(epochs, df[s])\n",
    "    axs[i].plot(epochs, df['val_'+s])\n",
    "    axs[i].set_title(s)\n",
    "    if s.split('_')[-1] in ['precision', 'recall', 'fmeasure']:\n",
    "        axs[i].set_ylim([0,1])\n",
    "    axs[i].set_xticks(ticks)\n",
    "    axs[i].set_xticklabels(ticks)\n",
    "    axs[i].grid()\n",
    "if False:\n",
    "    plotpath = os.path.join(checkpath, 'plots')\n",
    "    os.makedirs(plotpath, exist_ok=True)\n",
    "    plt.savefig(os.path.join(plotpath, 'history_metrics.png'), bbox_inches='tight') # jpg/png/pgf\n",
    "plt.show()"
   ]
  },
  {
   "cell_type": "markdown",
   "metadata": {},
   "source": [
    "### Compare History"
   ]
  },
  {
   "cell_type": "code",
   "execution_count": null,
   "metadata": {},
   "outputs": [],
   "source": [
    "d1 = experiments[0]\n",
    "d2 = experiments[1]\n",
    "\n",
    "signals = [\n",
    "    #'loss',\n",
    "    #'precision',\n",
    "    #'recall', \n",
    "    #'fmeasure',\n",
    "    'seg_fmeasure',\n",
    "    'link_fmeasure',\n",
    "]\n",
    "\n",
    "df1 = pd.read_csv(os.path.join('.', 'checkpoints', d1, 'history.csv'))\n",
    "df2 = pd.read_csv(os.path.join('.', 'checkpoints', d2, 'history.csv'))\n",
    "\n",
    "epochs1 = np.arange(len(df1)) + 1\n",
    "epochs2 = np.arange(len(df2)) + 1\n",
    "ticks = np.arange(max(len(df1),len(df2))) + 1\n",
    "\n",
    "fig, axs = plt.subplots(1, len(signals), figsize=(20,6))\n",
    "for i, s in enumerate(signals):\n",
    "    if s not in df1.keys() or s not in df2.keys():\n",
    "        print('missing %s' %(s))\n",
    "        continue\n",
    "    ax = axs[i] if len(signals) > 1 else axs\n",
    "    ax.plot(epochs1, df1[s])\n",
    "    ax.plot(epochs1, df1['val_'+s])\n",
    "    ax.plot(epochs2, df2[s])\n",
    "    ax.plot(epochs2, df2['val_'+s])\n",
    "    ax.set_title(s)\n",
    "    if s.split('_')[-1] in ['precision', 'recall', 'fmeasure']:\n",
    "        ax.set_ylim([0,1])\n",
    "    ax.set_xlim([0, ticks[-1]+1])\n",
    "    ax.set_xticks(ticks)\n",
    "    ax.set_xticklabels(ticks)\n",
    "    ax.grid()\n",
    "plt.show()"
   ]
  },
  {
   "cell_type": "code",
   "execution_count": null,
   "metadata": {},
   "outputs": [],
   "source": []
  },
  {
   "cell_type": "code",
   "execution_count": null,
   "metadata": {},
   "outputs": [],
   "source": []
  }
 ],
 "metadata": {
  "kernelspec": {
   "display_name": "Python 3",
   "language": "python",
   "name": "python3"
  },
  "language_info": {
   "codemirror_mode": {
    "name": "ipython",
    "version": 3
   },
   "file_extension": ".py",
   "mimetype": "text/x-python",
   "name": "python",
   "nbconvert_exporter": "python",
   "pygments_lexer": "ipython3",
   "version": "3.5.2"
  },
  "toc": {
   "base_numbering": 1,
   "nav_menu": {},
   "number_sections": true,
   "sideBar": true,
   "skip_h1_title": false,
   "title_cell": "Table of Contents",
   "title_sidebar": "Contents",
   "toc_cell": false,
   "toc_position": {},
   "toc_section_display": true,
   "toc_window_display": false
  }
 },
 "nbformat": 4,
 "nbformat_minor": 2
}
